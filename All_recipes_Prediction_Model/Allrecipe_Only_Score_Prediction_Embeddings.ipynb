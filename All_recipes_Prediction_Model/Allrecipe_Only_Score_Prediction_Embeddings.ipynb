{
 "cells": [
  {
   "cell_type": "code",
   "execution_count": 69,
   "metadata": {},
   "outputs": [],
   "source": [
    "embed_dim=100\n",
    "G=4\n",
    "#batch_size=80\n",
    "number_of_negative_tokens = 5\n",
    "n_epochs = 30\n",
    "n_workers=64\n",
    "queue_size = 64\n",
    "padding_length=3\n",
    "title_length_percentile=95\n",
    "desc_length_percentile=90\n",
    "\n",
    "import os, time, json,pandas as pd, numpy as np, re, string, random,sys\n",
    "from collections import Counter,defaultdict\n",
    "import Levenshtein\n",
    "\n",
    "\n",
    "from keras.layers import Input,Lambda,Conv1D,GlobalMaxPool1D,concatenate,Dense,Dropout,PReLU,TimeDistributed,Embedding,Activation\n",
    "from keras import Model\n",
    "import keras.backend as K\n",
    "import keras\n",
    "from keras.utils import Sequence\n",
    "import tensorflow as tf\n",
    "\n",
    "\n",
    "\n",
    "df= pd.read_csv('allrecipes.csv')\n",
    "\n",
    "\n",
    "# In[7]:\n"
   ]
  },
  {
   "cell_type": "code",
   "execution_count": 70,
   "metadata": {},
   "outputs": [
    {
     "data": {
      "text/plain": [
       "(36429, 2)"
      ]
     },
     "execution_count": 70,
     "metadata": {},
     "output_type": "execute_result"
    }
   ],
   "source": [
    "df.shape"
   ]
  },
  {
   "cell_type": "code",
   "execution_count": 71,
   "metadata": {},
   "outputs": [
    {
     "data": {
      "text/plain": [
       "1    12752\n",
       "2    10950\n",
       "3     6194\n",
       "4     3017\n",
       "0     1600\n",
       "5     1412\n",
       "6      444\n",
       "7       60\n",
       "Name: WHO, dtype: int64"
      ]
     },
     "execution_count": 71,
     "metadata": {},
     "output_type": "execute_result"
    }
   ],
   "source": [
    "df.WHO.value_counts()"
   ]
  },
  {
   "cell_type": "code",
   "execution_count": 3,
   "metadata": {},
   "outputs": [],
   "source": [
    "#!pip3 install python-levenshtein\n",
    "#!pip3 install setuptools\n",
    "\n",
    "# strip punctuation and combine ingredients into one word separated by a spae\n",
    "\n",
    "df['RECIPE'] = df['RECIPE'].str.replace('\\d+', '')\n",
    "df['RECIPE'] = df['RECIPE'].str.replace(' ', '')\n",
    "df['RECIPE'] = df['RECIPE'].str.replace('#.,', ' ')\n",
    "df['RECIPE'] = df['RECIPE'].str.replace('#.', '')"
   ]
  },
  {
   "cell_type": "code",
   "execution_count": 4,
   "metadata": {},
   "outputs": [],
   "source": [
    "df['WHO'] = df['WHO'].replace({0:'zero', 1: 'one', 2: 'two', 3: 'three', 4: 'four', 5: 'five', 6: 'six', 7: 'seven'})"
   ]
  },
  {
   "cell_type": "code",
   "execution_count": 5,
   "metadata": {},
   "outputs": [
    {
     "data": {
      "text/html": [
       "<div>\n",
       "<style scoped>\n",
       "    .dataframe tbody tr th:only-of-type {\n",
       "        vertical-align: middle;\n",
       "    }\n",
       "\n",
       "    .dataframe tbody tr th {\n",
       "        vertical-align: top;\n",
       "    }\n",
       "\n",
       "    .dataframe thead th {\n",
       "        text-align: right;\n",
       "    }\n",
       "</style>\n",
       "<table border=\"1\" class=\"dataframe\">\n",
       "  <thead>\n",
       "    <tr style=\"text-align: right;\">\n",
       "      <th></th>\n",
       "      <th>RECIPE</th>\n",
       "      <th>WHO</th>\n",
       "    </tr>\n",
       "  </thead>\n",
       "  <tbody>\n",
       "    <tr>\n",
       "      <th>0</th>\n",
       "      <td>mayonnaise parmigianoreggianocheese granulatedsugar romainelettuce baconbits</td>\n",
       "      <td>one</td>\n",
       "    </tr>\n",
       "    <tr>\n",
       "      <th>1</th>\n",
       "      <td>PhiladelphiaCreamCheese fineseasalt pecanhalves</td>\n",
       "      <td>one</td>\n",
       "    </tr>\n",
       "    <tr>\n",
       "      <th>2</th>\n",
       "      <td>hardboiledeggs wholemilk cakeflour fineseasalt vegetableoil</td>\n",
       "      <td>three</td>\n",
       "    </tr>\n",
       "    <tr>\n",
       "      <th>3</th>\n",
       "      <td>zucchini extra-virginoliveoil hotwater fineseasalt</td>\n",
       "      <td>three</td>\n",
       "    </tr>\n",
       "  </tbody>\n",
       "</table>\n",
       "</div>"
      ],
      "text/plain": [
       "                                                                         RECIPE  \\\n",
       "0  mayonnaise parmigianoreggianocheese granulatedsugar romainelettuce baconbits   \n",
       "1                               PhiladelphiaCreamCheese fineseasalt pecanhalves   \n",
       "2                   hardboiledeggs wholemilk cakeflour fineseasalt vegetableoil   \n",
       "3                            zucchini extra-virginoliveoil hotwater fineseasalt   \n",
       "\n",
       "     WHO  \n",
       "0    one  \n",
       "1    one  \n",
       "2  three  \n",
       "3  three  "
      ]
     },
     "execution_count": 5,
     "metadata": {},
     "output_type": "execute_result"
    }
   ],
   "source": [
    "pd.options.display.max_colwidth= 500\n",
    "df.head(4)"
   ]
  },
  {
   "cell_type": "code",
   "execution_count": 6,
   "metadata": {},
   "outputs": [],
   "source": [
    "mint=''.join(df['RECIPE'][0])"
   ]
  },
  {
   "cell_type": "code",
   "execution_count": 7,
   "metadata": {},
   "outputs": [],
   "source": [
    "from sklearn.model_selection import train_test_split\n",
    "#(X_train, X_test) = train_test_split(df2,test_size=0.20)\n",
    "\n",
    "\n",
    "#with tf.device('/gpu:0'):\n",
    "X_train, X_validation, X_test = np.split(df.sample(frac=1), [int(.6*len(df)), int(.8*len(df))])\n",
    "\n",
    "descTokenCounts = pd.Series(' '.join(df['RECIPE']).split())\n",
    "\n",
    "descTokenCounts= descTokenCounts.value_counts().to_dict()\n",
    "\n",
    "df= df.drop_duplicates()\n",
    "\n",
    "\n",
    "df= df.dropna()\n",
    "\n",
    "\n",
    "def remove_non_ascii_1(text):\n",
    "\n",
    "    return ''.join([i if ord(i) < 128 else ' ' for i in text])\n",
    "\n",
    "def remove_non_ascii_2(text):\n",
    "\n",
    "    return re.sub(r'[^\\x20-\\x7E]+',' ', text)\n",
    "\n",
    "vocabSize=100000\n",
    "tokens = sorted(descTokenCounts.items(),key=lambda x:x[1],reverse=True)[:vocabSize]\n",
    "\n",
    "tokens = [i[0] for i in tokens]\n",
    "tokens.append('token_unknown')\n",
    "token_to_index = {}\n",
    "index_to_token = {}\n",
    "\n",
    "\n",
    "df['WHO'] = ([remove_non_ascii_1(sentence) for sentence in df['WHO']])\n",
    "df['WHO'] = ([remove_non_ascii_2(sentence) for sentence in df['WHO']])\n",
    "\n",
    "\n",
    "df['RECIPE']= ([remove_non_ascii_1(sentence) for sentence in df['RECIPE']])\n",
    "\n",
    "\n",
    "# In[13]:\n",
    "\n",
    "\n",
    "\n",
    "\n",
    "df['RECIPE']= ([remove_non_ascii_2(sentence) for sentence in df['RECIPE']])\n",
    "\n"
   ]
  },
  {
   "cell_type": "code",
   "execution_count": 8,
   "metadata": {},
   "outputs": [
    {
     "name": "stdout",
     "output_type": "stream",
     "text": [
      "mayonnaise parmigianoreggianocheese granulatedsugar romainelettuce baconbits\n"
     ]
    }
   ],
   "source": [
    "print(mint)"
   ]
  },
  {
   "cell_type": "code",
   "execution_count": 9,
   "metadata": {},
   "outputs": [],
   "source": [
    "model_name = 'allmy_jermaine_model1_jerm'\n",
    "\n",
    "\n",
    "from sklearn.model_selection import train_test_split\n",
    "#(X_train, X_test) = train_test_split(df2,test_size=0.20)\n",
    "\n",
    "\n",
    "#with tf.device('/gpu:0'):\n",
    "X_train, X_validation, X_test = np.split(df.sample(frac=1), [int(.6*len(df)), int(.8*len(df))])\n",
    "\n",
    "\n",
    "\n",
    "with open('alltrain_data.json', 'wb') as f:\n",
    "    f.write(X_train.to_json(orient='records', lines=True).encode('ascii', 'ignore'))\n",
    "\n",
    "    \n",
    "with open('alltest_data.json', 'wb') as g:\n",
    "    g.write(X_test.to_json(orient='records', lines=True).encode('ascii', 'ignore'))\n",
    "\n",
    "\n",
    "    \n",
    "with open('allvalidation_data.json', 'wb') as t:\n",
    "    t.write(X_validation.to_json(orient='records', lines=True).encode('ascii', 'ignore'))\n",
    "\n",
    "def loadData(dataPath):\n",
    "    data=[]\n",
    "    start_time = time.time()\n",
    "    with open(dataPath) as f:\n",
    "        for line in f:\n",
    "            data.append(line)\n",
    "    loadTime = time.time() - start_time\n",
    "\n",
    "    #print loadTime\n",
    "    return data\n",
    "\n",
    "training_data = loadData('alltrain_data.json')\n",
    "validation_data = loadData('allvalidation_data.json') \n",
    "test_data = loadData('alltest_data.json') \n"
   ]
  },
  {
   "cell_type": "code",
   "execution_count": 10,
   "metadata": {},
   "outputs": [],
   "source": [
    "title_length= df['WHO'].map(len)\n",
    "desc_length= df['RECIPE'].map(len)\n",
    "titleCounts = df['WHO'].value_counts().to_dict()\n",
    "\n",
    "charset=set(list(string.ascii_lowercase)+list(map(str,range(10)))+list(\"?$*!: @ ^ %- / <> ~ ` \\\\ [] {} \\n = | \\\" _+#&-/\\n %() ' '.;,\"))\n",
    "title_char_to_index_dict={c:i for i,c in enumerate(charset)}\n",
    "title_index_to_char_dict={i:c for c,i in title_char_to_index_dict.items()}"
   ]
  },
  {
   "cell_type": "code",
   "execution_count": 11,
   "metadata": {},
   "outputs": [
    {
     "name": "stdout",
     "output_type": "stream",
     "text": [
      "{'.': 0, '\\n': 1, '=': 2, ';': 3, 'p': 4, 'f': 5, '+': 6, ',': 7, 'j': 8, '0': 9, '2': 10, '?': 11, 's': 12, 'd': 13, '{': 14, '~': 15, 'b': 16, '*': 17, '%': 18, 'z': 19, 'w': 20, 'o': 21, 'y': 22, '8': 23, 'q': 24, '|': 25, '5': 26, '1': 27, 'a': 28, '!': 29, 'i': 30, '9': 31, '<': 32, 'n': 33, '6': 34, '$': 35, '`': 36, '}': 37, 'c': 38, '(': 39, '4': 40, ' ': 41, '_': 42, '-': 43, '^': 44, '@': 45, '7': 46, '\\\\': 47, '[': 48, '#': 49, 'e': 50, 'h': 51, 'g': 52, '>': 53, 'l': 54, \"'\": 55, 't': 56, 'r': 57, '/': 58, ')': 59, '\"': 60, '&': 61, 'm': 62, ']': 63, 'x': 64, '3': 65, ':': 66, 'v': 67, 'u': 68, 'k': 69}\n"
     ]
    }
   ],
   "source": [
    "print(title_char_to_index_dict)"
   ]
  },
  {
   "cell_type": "code",
   "execution_count": 12,
   "metadata": {},
   "outputs": [],
   "source": [
    "\n",
    "\n",
    "\n",
    "for i in range(len(tokens)):\n",
    "    token_to_index[tokens[i]] = i+1\n",
    "    index_to_token[i+1] = tokens[i] \n",
    "\n",
    "\n",
    "with open('allmodels_indices.json'.format(model_name),'w') as f:\n",
    "    json.dump({'title_char_to_index_dict':title_char_to_index_dict,'title_index_to_char_dict':title_index_to_char_dict,              'token_to_index':token_to_index,'index_to_token':index_to_token},f)\n",
    "\n",
    "\n",
    "    \n",
    "title_max_len = np.ceil(np.percentile(title_length, title_length_percentile)).astype(int)\n",
    "\n",
    "def title_char_tokenizer(entity,entity_max_len):\n",
    "    preproced_entity=(\" \"*padding_length+entity)[:entity_max_len]\n",
    "    padded_entity=preproced_entity+\"\".join([\" \"]*(entity_max_len-len(preproced_entity)))\n",
    "    return [title_char_to_index_dict[i] for i in padded_entity]\n",
    "\n",
    "\n",
    "## RECIPE tokenizer\n",
    "## 0 padded in the end\n",
    "desc_max_length = np.ceil(np.percentile(desc_length, desc_length_percentile)).astype(int)\n",
    "def job_description_tokenizer(desc,entity_max_len):\n",
    "    desc = re.sub(\"[,\\/]\",' ',desc).split()\n",
    "    desc = [token_to_index[i] if i in token_to_index else token_to_index['token_unknown'] for i in desc]\n",
    "    desc=(desc+[0]*entity_max_len)[:entity_max_len]\n",
    "    return desc"
   ]
  },
  {
   "cell_type": "code",
   "execution_count": 13,
   "metadata": {},
   "outputs": [],
   "source": [
    "with open ('allallmodels_model_params.json'.format(model_name),'w') as f:\n",
    "    json.dump({'title_max_len':int(title_max_len),'desc_max_length':int(desc_max_length)},f)\n",
    "    \n",
    "## character embedding model for a list of titles\n",
    "def char_embed_model_seq(input_layer,char_length,char_index_dict,entity_name,n_filters=512,embed_dim=embed_dim):\n",
    "    '''\n",
    "    Same as char_embed_model, but produces embeddings for a sequence of say, titles.\n",
    "    Applies the same layers (as char_embed_model) to each member of the sequence\n",
    "    '''    \n",
    "    entity_onehot_layer=TimeDistributed(Lambda(lambda x: K.one_hot(x,len(char_index_dict)),output_shape=(char_length,len(char_index_dict))),name=entity_name+'_onehot_seq')(input_layer)\n",
    "        \n",
    "    conv7_layer=TimeDistributed(Conv1D(filters=n_filters,kernel_size=4,activation='relu'),name=entity_name+'_conv_7seq')(entity_onehot_layer)\n",
    "    maxpool7_layer=TimeDistributed(GlobalMaxPool1D(),name=entity_name+'maxpool1seq')(conv7_layer)\n",
    "\n",
    "    conv3_layer=TimeDistributed(Conv1D(filters=n_filters,kernel_size=2,activation='relu'),name=entity_name+'_conv_3seq')(entity_onehot_layer)\n",
    "    maxpool3_layer=TimeDistributed(GlobalMaxPool1D(),name=entity_name+'maxpool2seq')(conv3_layer)\n",
    "\n",
    "    pools_concat=keras.layers.concatenate([maxpool7_layer,maxpool3_layer],name=entity_name+'_maxpools_concatseq')\n",
    "    #pools_dropped=(pools_concat)\n",
    "\n",
    "    entity_dense_layer=TimeDistributed(Dense(n_filters*2,activation='relu'),name=entity_name+'_intermediate_denseseq')(pools_concat)\n",
    "    \n",
    "    dropout_layer=TimeDistributed(\\Dropout(0.4),name=entity_name+\"_droppedseq\")(entity_dense_layer)\n",
    "    \n",
    "    entity_final_dense=TimeDistributed(Dense(embed_dim),name=entity_name+'_last_denseseq')(dropout_layer)\n",
    "    entity_prelu_layer=TimeDistributed(PReLU(),name=entity_name+'_preluseq')(entity_final_dense)\n",
    "    embed_norm_layer=TimeDistributed(Lambda(lambda x: x/(K.epsilon()+K.sqrt(K.batch_dot(x,x,axes=-1)))),name=entity_name+'_unit_norm_embedseq')(entity_prelu_layer)\n",
    "\n",
    "    entity_embed_model=keras.models.Model(input_layer,embed_norm_layer,name=entity_name+\"_embedding_model\")\n",
    "    return entity_embed_model\n",
    "\n",
    "\n",
    "\n",
    "\n",
    "# In[25]:\n",
    "\n",
    "\n",
    "## job describtion embedding - average word embedding (remove 0 padding)\n",
    "def desc_embed_model(input_layer,vocab_size,entity_name,embed_dim=embed_dim):\n",
    "    wordEmbed = Embedding(input_dim = vocab_size,output_dim = embed_dim, name='word_embedding')(input_layer) \n",
    "    \n",
    "    ## get average embedding for desc (remove 0 padding)\n",
    "    mask=Lambda(lambda x: K.cast(K.minimum(1,K.cast(x,'int32')),'float32'),name='mask')(input_layer)\n",
    "    mask_summed=Lambda(lambda x: 1/(K.epsilon()+K.sum(x,axis=-1)),name='mask_summed')(mask)\n",
    "    mask_normed=keras.layers.multiply([mask,mask_summed],name='mask_normed')\n",
    "    desc_embedding_averaged=keras.layers.dot([wordEmbed,mask_normed],axes=1,name='desc_embedding_averaged')\n",
    "    \n",
    "    desc_embed_model=Model(input_layer,desc_embedding_averaged,name=entity_name+\"_embedding_model\")\n",
    "    return desc_embed_model\n",
    "# In[26]:\n",
    "\n",
    "\n",
    "alpha=0.5\n",
    "sampling_titles = titleCounts.keys()\n",
    "\n",
    "sampling_titles= [k for k in titleCounts.keys()]\n",
    "\n",
    "\n",
    "# In[27]:\n",
    "\n",
    "\n",
    "sampling_titles_array = np.array(sampling_titles)\n",
    "\n",
    "\n",
    "# In[28]:\n",
    "\n",
    "\n",
    "sampling_prob_array = np.array(list(titleCounts.values()))\n",
    "sampling_prob_array = np.power(sampling_prob_array,alpha)\n",
    "sampling_prob_array = sampling_prob_array/sum(sampling_prob_array)\n",
    "\n",
    "\n",
    "# In[29]:\n",
    "\n",
    "\n",
    "def sampling_based_on_similarity(title,sub_sampling_titles,number_of_negative_tokens=5):\n",
    "## Randomly sample sub_sampling_titles based on emperical distribution\n",
    "## Randomly sample titles from the selected sub-titles based on Levenshtein similarity\n",
    "    st = time.time()\n",
    "    sampling_titles = np.array(sub_sampling_titles)\n",
    "\n",
    "    sampling_prob = np.array([Levenshtein.ratio(title,i) for i in sub_sampling_titles])#Levenshtein.ratio(title,i) for i in sub_sampling_titles])\n",
    "    sampling_prob = sampling_prob/sum(sampling_prob)\n",
    "    \n",
    "    samples=np.random.choice(sampling_titles,size=number_of_negative_tokens,p=sampling_prob)\n",
    "  \n",
    "    return samples.tolist()\n",
    "\n"
   ]
  },
  {
   "cell_type": "code",
   "execution_count": 17,
   "metadata": {},
   "outputs": [],
   "source": [
    "class empirical_sampling_gen(Sequence):\n",
    "\n",
    "    def __init__(self, data, batch_size,number_of_negative_tokens,sampling_titles,sampling_prob,sub_sampling_size):\n",
    "        '''        \n",
    "        batch_size: number of recipes to process per batch        \n",
    "        The actual number of training samples varies as each resume is splitted into sub-sequences\n",
    "        '''\n",
    "        self.batch_size = batch_size\n",
    "        self.input_data = data\n",
    "        self.data_length = len(data)\n",
    "        self.number_negative_tokens = number_of_negative_tokens\n",
    "        self.sampling_titles = sampling_titles\n",
    "        self.sampling_prob = sampling_prob\n",
    "        self.sub_sampling_size = sub_sampling_size\n",
    "    def __len__(self):\n",
    "        return int(np.ceil(self.data_length / float(self.batch_size)))\n",
    "    \n",
    "\n",
    "    def __getitem__(self, idx):\n",
    "        i = idx\n",
    "        batch_size = self.batch_size \n",
    "        desc_input_batch=[]\n",
    "        title_input_batch=[]\n",
    "        y_pos_batch=[]\n",
    "        y_neg_batch=[] \n",
    "        titles = []\n",
    "        for k in range(i * batch_size, min((i + 1) * batch_size, self.data_length)):\n",
    "            line = json.loads(self.input_data[k])\n",
    "            desc = job_description_tokenizer(line['RECIPE'],desc_max_length)\n",
    "            #desc = str(desc)\n",
    "            titles.append(line['WHO'])\n",
    "            title = title_char_tokenizer(line['WHO'],title_max_len)\n",
    "            #title= str(title)\n",
    "            desc_input_batch.append(desc)\n",
    "            title_input_batch.append([title]*self.number_negative_tokens)\n",
    "            y_pos_batch.append(1)\n",
    "            y_neg_batch.append([0]*self.number_negative_tokens)  \n",
    "            \n",
    "        ## Sample negative titles for each batch all together              \n",
    "        neg_titles = np.random.choice(self.sampling_titles, size=len(titles)*self.number_negative_tokens, p=self.sampling_prob)\n",
    "        \n",
    "        ## Resample for titles with length below median title length based on Levenshtein similarity\n",
    "        sub_sampling_titles = np.random.choice(self.sampling_titles,p=self.sampling_prob,                                               size=self.sub_sampling_size*len(titles),replace=True)\n",
    "        for i,t in enumerate(titles):\n",
    "            if np.random.random()>0.5:\n",
    "                sub_titles = sub_sampling_titles[i*self.sub_sampling_size:(i+1)*self.sub_sampling_size]\n",
    "                samples = sampling_based_on_similarity(t,sub_titles)\n",
    "                neg_titles[i*self.number_negative_tokens:(i+1)*self.number_negative_tokens]=samples\n",
    "        \n",
    "        neg_title_input_batch = [title_char_tokenizer(t,title_max_len) for t in neg_titles]\n",
    "        neg_title_input_batch = [neg_title_input_batch[x:x+self.number_negative_tokens]                                  for x in range(0, len(neg_title_input_batch), self.number_negative_tokens)]\n",
    "        \n",
    "        \n",
    "             \n",
    "        ## Convert inputs and output to numpy arrays\n",
    "        inputs = list(map(np.array,[desc_input_batch,title_input_batch,neg_title_input_batch]))\n",
    "        outputs = list(map(np.array,[y_pos_batch,y_neg_batch]))     \n",
    "        #return (inputs, outputs,titles,neg_titles) \n",
    "        #print(inputs)\n",
    "        return (inputs, outputs) \n",
    "    \n",
    "\n",
    "    def on_epoch_end(self):\n",
    "        #'Shuffle data after each epoch'\n",
    "        np.random.shuffle(self.input_data)\n",
    "\n",
    "\n",
    "\n",
    "# In[ ]:\n",
    "\n",
    "\n",
    "# In[31]:\n",
    "\n",
    "\n",
    "batch_size=80\n",
    "\n",
    "\n",
    "# In[32]:\n",
    "\n",
    "\n",
    "trainGen = empirical_sampling_gen(training_data,batch_size,number_of_negative_tokens,                                  sampling_titles_array,sampling_prob_array,sub_sampling_size=2200)                                 \n",
    "\n",
    "\n",
    "\n",
    "#len(title_char_to_index_dict)\n",
    "\n",
    "\n",
    "# In[33]:\n",
    "\n",
    "\n",
    "\n",
    "testGen = empirical_sampling_gen(test_data,batch_size,number_of_negative_tokens,                                    sampling_titles_array,sampling_prob_array,sub_sampling_size=1500)\n",
    "\n",
    "\n",
    "# In[34]:\n",
    "\n",
    "\n",
    "validateGen = empirical_sampling_gen(validation_data,batch_size,number_of_negative_tokens,                                    sampling_titles_array,sampling_prob_array,sub_sampling_size=2200)                                 \n",
    "\n",
    "\n",
    "# In[35]:\n",
    "\n",
    "\n",
    "target_title_input=Input(shape=(number_of_negative_tokens,title_max_len), dtype='int32', name='targe_title_input')\n",
    "neg_title_input = Input(shape=(number_of_negative_tokens,title_max_len), dtype='int32', name='ne_title_input')\n",
    "title_embedding_model = char_embed_model_seq(target_title_input,title_max_len,title_char_to_index_dict,\"titlee\")\n",
    "target_title_embed = title_embedding_model(target_title_input)\n",
    "target_title_embed = Lambda(lambda x:x[:,0,:],name='title_embedding_take_first_elemente')(target_title_embed)\n",
    "neg_title_embed = title_embedding_model(neg_title_input)\n",
    "\n",
    "\n",
    "\n",
    "# In[36]:\n",
    "\n",
    "\n",
    "## Get resume job description embedding\n",
    "desc_input = Input(shape=(desc_max_length,),name='des_input')\n",
    "desc_embedding_model = desc_embed_model(desc_input,vocabSize+2,'des')\n",
    "desc_embed = desc_embedding_model(desc_input)\n",
    "\n",
    "## Calcuate dot product and loss\n",
    "desc_target_title_dot = keras.layers.dot([target_title_embed,desc_embed],axes=-1,name='des_target_dot')\n",
    "pos_title_logit = Activation('sigmoid',name='po_title_logit')(desc_target_title_dot)\n",
    "\n",
    "desc_neg_title_dot = keras.layers.dot([neg_title_embed,desc_embed],axes=-1,name='des_neg_dot')\n",
    "neg_title_logit = Activation('sigmoid',name='ne_title_logit')(desc_neg_title_dot)\n"
   ]
  },
  {
   "cell_type": "code",
   "execution_count": 19,
   "metadata": {},
   "outputs": [],
   "source": [
    "embeddings = desc_embedding_model.get_weights()[0]\n",
    "np.set_printoptions(suppress=True)\n",
    "words_embeddings = {w:embeddings[idx].flatten() for w, idx in descTokenCounts.items()}\n",
    "\n",
    "def recipe_emb(temp, words_embeddings):\n",
    "    np.set_printoptions(suppress=True,\n",
    "    formatter={'float_kind':'{:0.18f}'.format})\n",
    "    count = 0\n",
    "    v=1\n",
    "    for w in temp.split():\n",
    "        if w in words_embeddings:\n",
    "            count +=1\n",
    "            v+= ((words_embeddings[w]))\n",
    "        #v= np.array(v)\n",
    "    return v"
   ]
  },
  {
   "cell_type": "code",
   "execution_count": 35,
   "metadata": {},
   "outputs": [
    {
     "data": {
      "text/plain": [
       "array([ 0.02448433,  0.03062416, -0.01681703,  0.02122458,  0.01187936,\n",
       "       -0.02922964,  0.01593478, -0.03151363, -0.0379595 ,  0.02044037,\n",
       "       -0.04961586,  0.02916038,  0.00845318,  0.00982299, -0.01208616,\n",
       "       -0.02042514,  0.00065281,  0.03172705, -0.01481517, -0.00105858,\n",
       "       -0.04450939, -0.02806205, -0.0399661 , -0.04933716,  0.02293475,\n",
       "       -0.0012811 , -0.02535025, -0.02904861,  0.03837165,  0.00066642,\n",
       "       -0.03472545, -0.00616946,  0.01452087,  0.01684133, -0.02522833,\n",
       "        0.00843678,  0.0123084 , -0.0488718 ,  0.01559908, -0.00869668,\n",
       "       -0.04525021, -0.01758415,  0.01584867, -0.01951263,  0.03611184,\n",
       "       -0.03934405, -0.00283822,  0.02856929, -0.01540083,  0.02928745,\n",
       "       -0.00649317, -0.01895791,  0.03905341, -0.01834018,  0.01103797,\n",
       "       -0.0246984 , -0.04955833,  0.0464688 , -0.03899119, -0.03489087,\n",
       "        0.00344292, -0.04812456,  0.00225431, -0.03226161, -0.04423666,\n",
       "       -0.0343858 , -0.02604166,  0.01794333,  0.0194065 ,  0.01474479,\n",
       "       -0.00372465,  0.0294832 , -0.04884334,  0.02798145, -0.01726626,\n",
       "        0.010979  , -0.04231597, -0.00377073, -0.0214322 , -0.00645842,\n",
       "        0.00083667,  0.03561822, -0.01567807, -0.0308856 ,  0.03258212,\n",
       "        0.01034279, -0.03737762, -0.00611477,  0.0478963 , -0.01587143,\n",
       "        0.02917686,  0.00786058,  0.02164399,  0.02268669, -0.0451995 ,\n",
       "       -0.01706402,  0.0207998 , -0.02068032, -0.02791793,  0.04179586],\n",
       "      dtype=float32)"
      ]
     },
     "execution_count": 35,
     "metadata": {},
     "output_type": "execute_result"
    }
   ],
   "source": [
    "words_embeddings['soup']"
   ]
  },
  {
   "cell_type": "code",
   "execution_count": 41,
   "metadata": {},
   "outputs": [],
   "source": [
    "def my_save_word2vec_format(fname, vocab, vectors, binary=True, total_vec=2):\n",
    "    \"\"\"Store the input-hidden weight matrix in the same format used by the original\n",
    "    C word2vec-tool, for compatibility.\n",
    "\n",
    "    Parameters\n",
    "    ----------\n",
    "    fname : str\n",
    "    The file path used to save the vectors in.\n",
    "    vocab : dict\n",
    "    The vocabulary of words.\n",
    "    vectors : numpy.array\n",
    "    The vectors to be stored.\n",
    "    binary : bool, optional\n",
    "    If True, the data wil be saved in binary word2vec format, else it will be saved in plain text.\n",
    "    total_vec : int, optional\n",
    "    Explicitly specify total number of vectors\n",
    "    (in case word vectors are appended with document vectors afterwards).\n",
    "    \n",
    "    \"\"\"\n",
    "\n",
    "    if not (vocab or vectors):\n",
    "        raise RuntimeError(\"no input\")\n",
    "    if total_vec is None:\n",
    "        total_vec = len(vocab)\n",
    "    vector_size = vectors.shape[1]\n",
    "    assert (len(vocab), vector_size) == vectors.shape\n",
    "    with utils.smart_open(fname, 'wb') as fout:\n",
    "        print(total_vec, vector_size)\n",
    "        fout.write(utils.to_utf8(\"%s %s\\n\" % (total_vec, vector_size)))\n",
    "    # store in sorted order: most frequent words at the top\n",
    "        for word, row in vocab.items():\n",
    "            if binary:\n",
    "                row = row.astype(REAL)\n",
    "                fout.write(utils.to_utf8(word) + b\" \" + row.tostring())\n",
    "            else:\n",
    "                fout.write(utils.to_utf8(\"%s %s\\n\" % (word, ' '.join(repr(val) for val in row))))"
   ]
  },
  {
   "cell_type": "code",
   "execution_count": 68,
   "metadata": {},
   "outputs": [
    {
     "data": {
      "text/plain": [
       "465"
      ]
     },
     "execution_count": 68,
     "metadata": {},
     "output_type": "execute_result"
    }
   ],
   "source": [
    "len(words_embeddings)"
   ]
  },
  {
   "cell_type": "code",
   "execution_count": 44,
   "metadata": {},
   "outputs": [
    {
     "name": "stdout",
     "output_type": "stream",
     "text": [
      "465 100\n"
     ]
    }
   ],
   "source": [
    "import gensim\n",
    "from gensim.models import Word2Vec\n",
    "from numpy import zeros, dtype, float32 as REAL, ascontiguousarray, fromstring\n",
    "from gensim import utils\n",
    "\n",
    "m = gensim.models.keyedvectors.Word2VecKeyedVectors(vector_size=100)\n",
    "m.vocab = words_embeddings\n",
    "m.vectors = np.array(list(words_embeddings.values()))\n",
    "my_save_word2vec_format(binary=True, fname='train.bin', total_vec=len(words_embeddings), vocab=m.vocab, vectors=m.vectors)"
   ]
  },
  {
   "cell_type": "code",
   "execution_count": 45,
   "metadata": {},
   "outputs": [],
   "source": [
    "m2 = gensim.models.keyedvectors.Word2VecKeyedVectors.load_word2vec_format('train.bin', binary=True)"
   ]
  },
  {
   "cell_type": "code",
   "execution_count": null,
   "metadata": {},
   "outputs": [],
   "source": []
  },
  {
   "cell_type": "code",
   "execution_count": 65,
   "metadata": {},
   "outputs": [
    {
     "name": "stderr",
     "output_type": "stream",
     "text": [
      "/Users/jermainemarshall/anaconda3/lib/python3.6/site-packages/gensim/matutils.py:737: FutureWarning: Conversion of the second argument of issubdtype from `int` to `np.signedinteger` is deprecated. In future, it will be treated as `np.int64 == np.dtype(int).type`.\n",
      "  if np.issubdtype(vec.dtype, np.int):\n"
     ]
    },
    {
     "data": {
      "text/plain": [
       "0.046567295"
      ]
     },
     "execution_count": 65,
     "metadata": {},
     "output_type": "execute_result"
    }
   ],
   "source": [
    "#m2.most_similar(positive=['spaghetti', 'pasta'], negative=['ketchup'])\n",
    "m2.similarity('ketchup', 'spaghetti')"
   ]
  },
  {
   "cell_type": "code",
   "execution_count": 519,
   "metadata": {},
   "outputs": [],
   "source": [
    "#pd.set_option('display.float_format', lambda x: '%.3f' % x)"
   ]
  },
  {
   "cell_type": "code",
   "execution_count": 520,
   "metadata": {},
   "outputs": [],
   "source": [
    "df3= df[0:80000]\n",
    "df3['embed_summed']=df3['RECIPE'].apply(lambda x: recipe_emb(x,words_embeddings))\n",
    "df3.embed_summed= df3['embed_summed'].astype(str)\n",
    "df3.embed_summed.str.replace('[','')\n",
    "df3['embed_summed'] = df3['embed_summed'].str.replace('[', '')\n",
    "df3['embed_summed'] = df3['embed_summed'].str.replace(']', '')\n",
    "df3['embed_summed'] = df3['embed_summed'].str.replace('[\\n\\s]+', ',')\n",
    "df3['embed_summed'] = df3['embed_summed'].str.replace(r'^,', '')\n",
    "df4 = df3['embed_summed'].apply(lambda x: pd.Series(x.split(',')))\n",
    "df3= df3[['RECIPE','WHO']].copy()\n",
    "df3= df3.join(df4)\n"
   ]
  },
  {
   "cell_type": "code",
   "execution_count": 517,
   "metadata": {},
   "outputs": [],
   "source": [
    "df3.to_csv('summed_allrecipe_average_embeddings.csv')"
   ]
  },
  {
   "cell_type": "code",
   "execution_count": 18,
   "metadata": {},
   "outputs": [],
   "source": [
    "original_model=Model(inputs=[desc_input,target_title_input,neg_title_input],outputs=[pos_title_logit,neg_title_logit])\n",
    "\n",
    "\n",
    "original_model.compile(optimizer='adam',metrics=['accuracy'],\n",
    "                       loss=['binary_crossentropy','binary_crossentropy'],loss_weights=[1.,1.])                    "
   ]
  },
  {
   "cell_type": "code",
   "execution_count": 479,
   "metadata": {},
   "outputs": [
    {
     "name": "stdout",
     "output_type": "stream",
     "text": [
      "Epoch 1/5\n",
      "30/30 [==============================] - 362s 12s/step - loss: 1.3836 - po_title_logit_loss: 0.6895 - ne_title_logit_loss: 0.6941 - po_title_logit_acc: 0.6250 - ne_title_logit_acc: 0.4503 - val_loss: 1.3797 - val_po_title_logit_loss: 0.6844 - val_ne_title_logit_loss: 0.6952 - val_po_title_logit_acc: 0.6983 - val_ne_title_logit_acc: 0.4325\n",
      "Epoch 2/5\n",
      "15/30 [==============>...............] - ETA: 53s - loss: 1.3794 - po_title_logit_loss: 0.6817 - ne_title_logit_loss: 0.6978 - po_title_logit_acc: 0.7408 - ne_title_logit_acc: 0.3737"
     ]
    },
    {
     "ename": "KeyboardInterrupt",
     "evalue": "",
     "output_type": "error",
     "traceback": [
      "\u001b[0;31m-------------------------------------------------------------------------\u001b[0m",
      "\u001b[0;31mKeyboardInterrupt\u001b[0m                       Traceback (most recent call last)",
      "\u001b[0;32m<ipython-input-479-22fd7a19a121>\u001b[0m in \u001b[0;36m<module>\u001b[0;34m()\u001b[0m\n\u001b[1;32m      1\u001b[0m original_model.fit_generator(trainGen,verbose=1,validation_data=validateGen,epochs=5, steps_per_epoch= 30,\n\u001b[0;32m----> 2\u001b[0;31m                              workers=n_workers,max_queue_size=queue_size,use_multiprocessing=False,shuffle=True)\n\u001b[0m",
      "\u001b[0;32m~/anaconda3/lib/python3.6/site-packages/keras/legacy/interfaces.py\u001b[0m in \u001b[0;36mwrapper\u001b[0;34m(*args, **kwargs)\u001b[0m\n\u001b[1;32m     89\u001b[0m                 warnings.warn('Update your `' + object_name +\n\u001b[1;32m     90\u001b[0m                               '` call to the Keras 2 API: ' + signature, stacklevel=2)\n\u001b[0;32m---> 91\u001b[0;31m             \u001b[0;32mreturn\u001b[0m \u001b[0mfunc\u001b[0m\u001b[0;34m(\u001b[0m\u001b[0;34m*\u001b[0m\u001b[0margs\u001b[0m\u001b[0;34m,\u001b[0m \u001b[0;34m**\u001b[0m\u001b[0mkwargs\u001b[0m\u001b[0;34m)\u001b[0m\u001b[0;34m\u001b[0m\u001b[0m\n\u001b[0m\u001b[1;32m     92\u001b[0m         \u001b[0mwrapper\u001b[0m\u001b[0;34m.\u001b[0m\u001b[0m_original_function\u001b[0m \u001b[0;34m=\u001b[0m \u001b[0mfunc\u001b[0m\u001b[0;34m\u001b[0m\u001b[0m\n\u001b[1;32m     93\u001b[0m         \u001b[0;32mreturn\u001b[0m \u001b[0mwrapper\u001b[0m\u001b[0;34m\u001b[0m\u001b[0m\n",
      "\u001b[0;32m~/anaconda3/lib/python3.6/site-packages/keras/engine/training.py\u001b[0m in \u001b[0;36mfit_generator\u001b[0;34m(self, generator, steps_per_epoch, epochs, verbose, callbacks, validation_data, validation_steps, class_weight, max_queue_size, workers, use_multiprocessing, shuffle, initial_epoch)\u001b[0m\n\u001b[1;32m   1413\u001b[0m             \u001b[0muse_multiprocessing\u001b[0m\u001b[0;34m=\u001b[0m\u001b[0muse_multiprocessing\u001b[0m\u001b[0;34m,\u001b[0m\u001b[0;34m\u001b[0m\u001b[0m\n\u001b[1;32m   1414\u001b[0m             \u001b[0mshuffle\u001b[0m\u001b[0;34m=\u001b[0m\u001b[0mshuffle\u001b[0m\u001b[0;34m,\u001b[0m\u001b[0;34m\u001b[0m\u001b[0m\n\u001b[0;32m-> 1415\u001b[0;31m             initial_epoch=initial_epoch)\n\u001b[0m\u001b[1;32m   1416\u001b[0m \u001b[0;34m\u001b[0m\u001b[0m\n\u001b[1;32m   1417\u001b[0m     \u001b[0;34m@\u001b[0m\u001b[0minterfaces\u001b[0m\u001b[0;34m.\u001b[0m\u001b[0mlegacy_generator_methods_support\u001b[0m\u001b[0;34m\u001b[0m\u001b[0m\n",
      "\u001b[0;32m~/anaconda3/lib/python3.6/site-packages/keras/engine/training_generator.py\u001b[0m in \u001b[0;36mfit_generator\u001b[0;34m(model, generator, steps_per_epoch, epochs, verbose, callbacks, validation_data, validation_steps, class_weight, max_queue_size, workers, use_multiprocessing, shuffle, initial_epoch)\u001b[0m\n\u001b[1;32m    211\u001b[0m                 outs = model.train_on_batch(x, y,\n\u001b[1;32m    212\u001b[0m                                             \u001b[0msample_weight\u001b[0m\u001b[0;34m=\u001b[0m\u001b[0msample_weight\u001b[0m\u001b[0;34m,\u001b[0m\u001b[0;34m\u001b[0m\u001b[0m\n\u001b[0;32m--> 213\u001b[0;31m                                             class_weight=class_weight)\n\u001b[0m\u001b[1;32m    214\u001b[0m \u001b[0;34m\u001b[0m\u001b[0m\n\u001b[1;32m    215\u001b[0m                 \u001b[0mouts\u001b[0m \u001b[0;34m=\u001b[0m \u001b[0mto_list\u001b[0m\u001b[0;34m(\u001b[0m\u001b[0mouts\u001b[0m\u001b[0;34m)\u001b[0m\u001b[0;34m\u001b[0m\u001b[0m\n",
      "\u001b[0;32m~/anaconda3/lib/python3.6/site-packages/keras/engine/training.py\u001b[0m in \u001b[0;36mtrain_on_batch\u001b[0;34m(self, x, y, sample_weight, class_weight)\u001b[0m\n\u001b[1;32m   1213\u001b[0m             \u001b[0mins\u001b[0m \u001b[0;34m=\u001b[0m \u001b[0mx\u001b[0m \u001b[0;34m+\u001b[0m \u001b[0my\u001b[0m \u001b[0;34m+\u001b[0m \u001b[0msample_weights\u001b[0m\u001b[0;34m\u001b[0m\u001b[0m\n\u001b[1;32m   1214\u001b[0m         \u001b[0mself\u001b[0m\u001b[0;34m.\u001b[0m\u001b[0m_make_train_function\u001b[0m\u001b[0;34m(\u001b[0m\u001b[0;34m)\u001b[0m\u001b[0;34m\u001b[0m\u001b[0m\n\u001b[0;32m-> 1215\u001b[0;31m         \u001b[0moutputs\u001b[0m \u001b[0;34m=\u001b[0m \u001b[0mself\u001b[0m\u001b[0;34m.\u001b[0m\u001b[0mtrain_function\u001b[0m\u001b[0;34m(\u001b[0m\u001b[0mins\u001b[0m\u001b[0;34m)\u001b[0m\u001b[0;34m\u001b[0m\u001b[0m\n\u001b[0m\u001b[1;32m   1216\u001b[0m         \u001b[0;32mreturn\u001b[0m \u001b[0munpack_singleton\u001b[0m\u001b[0;34m(\u001b[0m\u001b[0moutputs\u001b[0m\u001b[0;34m)\u001b[0m\u001b[0;34m\u001b[0m\u001b[0m\n\u001b[1;32m   1217\u001b[0m \u001b[0;34m\u001b[0m\u001b[0m\n",
      "\u001b[0;32m~/anaconda3/lib/python3.6/site-packages/keras/backend/tensorflow_backend.py\u001b[0m in \u001b[0;36m__call__\u001b[0;34m(self, inputs)\u001b[0m\n\u001b[1;32m   2664\u001b[0m                 \u001b[0;32mreturn\u001b[0m \u001b[0mself\u001b[0m\u001b[0;34m.\u001b[0m\u001b[0m_legacy_call\u001b[0m\u001b[0;34m(\u001b[0m\u001b[0minputs\u001b[0m\u001b[0;34m)\u001b[0m\u001b[0;34m\u001b[0m\u001b[0m\n\u001b[1;32m   2665\u001b[0m \u001b[0;34m\u001b[0m\u001b[0m\n\u001b[0;32m-> 2666\u001b[0;31m             \u001b[0;32mreturn\u001b[0m \u001b[0mself\u001b[0m\u001b[0;34m.\u001b[0m\u001b[0m_call\u001b[0m\u001b[0;34m(\u001b[0m\u001b[0minputs\u001b[0m\u001b[0;34m)\u001b[0m\u001b[0;34m\u001b[0m\u001b[0m\n\u001b[0m\u001b[1;32m   2667\u001b[0m         \u001b[0;32melse\u001b[0m\u001b[0;34m:\u001b[0m\u001b[0;34m\u001b[0m\u001b[0m\n\u001b[1;32m   2668\u001b[0m             \u001b[0;32mif\u001b[0m \u001b[0mpy_any\u001b[0m\u001b[0;34m(\u001b[0m\u001b[0mis_tensor\u001b[0m\u001b[0;34m(\u001b[0m\u001b[0mx\u001b[0m\u001b[0;34m)\u001b[0m \u001b[0;32mfor\u001b[0m \u001b[0mx\u001b[0m \u001b[0;32min\u001b[0m \u001b[0minputs\u001b[0m\u001b[0;34m)\u001b[0m\u001b[0;34m:\u001b[0m\u001b[0;34m\u001b[0m\u001b[0m\n",
      "\u001b[0;32m~/anaconda3/lib/python3.6/site-packages/keras/backend/tensorflow_backend.py\u001b[0m in \u001b[0;36m_call\u001b[0;34m(self, inputs)\u001b[0m\n\u001b[1;32m   2634\u001b[0m                                 \u001b[0msymbol_vals\u001b[0m\u001b[0;34m,\u001b[0m\u001b[0;34m\u001b[0m\u001b[0m\n\u001b[1;32m   2635\u001b[0m                                 session)\n\u001b[0;32m-> 2636\u001b[0;31m         \u001b[0mfetched\u001b[0m \u001b[0;34m=\u001b[0m \u001b[0mself\u001b[0m\u001b[0;34m.\u001b[0m\u001b[0m_callable_fn\u001b[0m\u001b[0;34m(\u001b[0m\u001b[0;34m*\u001b[0m\u001b[0marray_vals\u001b[0m\u001b[0;34m)\u001b[0m\u001b[0;34m\u001b[0m\u001b[0m\n\u001b[0m\u001b[1;32m   2637\u001b[0m         \u001b[0;32mreturn\u001b[0m \u001b[0mfetched\u001b[0m\u001b[0;34m[\u001b[0m\u001b[0;34m:\u001b[0m\u001b[0mlen\u001b[0m\u001b[0;34m(\u001b[0m\u001b[0mself\u001b[0m\u001b[0;34m.\u001b[0m\u001b[0moutputs\u001b[0m\u001b[0;34m)\u001b[0m\u001b[0;34m]\u001b[0m\u001b[0;34m\u001b[0m\u001b[0m\n\u001b[1;32m   2638\u001b[0m \u001b[0;34m\u001b[0m\u001b[0m\n",
      "\u001b[0;32m~/anaconda3/lib/python3.6/site-packages/tensorflow/python/client/session.py\u001b[0m in \u001b[0;36m__call__\u001b[0;34m(self, *args, **kwargs)\u001b[0m\n\u001b[1;32m   1380\u001b[0m           ret = tf_session.TF_SessionRunCallable(\n\u001b[1;32m   1381\u001b[0m               \u001b[0mself\u001b[0m\u001b[0;34m.\u001b[0m\u001b[0m_session\u001b[0m\u001b[0;34m.\u001b[0m\u001b[0m_session\u001b[0m\u001b[0;34m,\u001b[0m \u001b[0mself\u001b[0m\u001b[0;34m.\u001b[0m\u001b[0m_handle\u001b[0m\u001b[0;34m,\u001b[0m \u001b[0margs\u001b[0m\u001b[0;34m,\u001b[0m \u001b[0mstatus\u001b[0m\u001b[0;34m,\u001b[0m\u001b[0;34m\u001b[0m\u001b[0m\n\u001b[0;32m-> 1382\u001b[0;31m               run_metadata_ptr)\n\u001b[0m\u001b[1;32m   1383\u001b[0m         \u001b[0;32mif\u001b[0m \u001b[0mrun_metadata\u001b[0m\u001b[0;34m:\u001b[0m\u001b[0;34m\u001b[0m\u001b[0m\n\u001b[1;32m   1384\u001b[0m           \u001b[0mproto_data\u001b[0m \u001b[0;34m=\u001b[0m \u001b[0mtf_session\u001b[0m\u001b[0;34m.\u001b[0m\u001b[0mTF_GetBuffer\u001b[0m\u001b[0;34m(\u001b[0m\u001b[0mrun_metadata_ptr\u001b[0m\u001b[0;34m)\u001b[0m\u001b[0;34m\u001b[0m\u001b[0m\n",
      "\u001b[0;31mKeyboardInterrupt\u001b[0m: "
     ]
    }
   ],
   "source": [
    "original_model.fit_generator(trainGen,verbose=1,validation_data=validateGen,epochs=5, steps_per_epoch= 30,\n",
    "                             workers=n_workers,max_queue_size=queue_size,use_multiprocessing=False,shuffle=True)\n"
   ]
  },
  {
   "cell_type": "code",
   "execution_count": 16,
   "metadata": {},
   "outputs": [],
   "source": [
    "open('all_recipe_model.json'.format(model_name), 'w').write(original_model.to_json())\n",
    "\n",
    "\n",
    "# In[ ]:\n",
    "\n",
    "\n",
    "original_model.save_weights('all_recipe_model.hdf5'.format(name=model_name))"
   ]
  },
  {
   "cell_type": "markdown",
   "metadata": {},
   "source": []
  }
 ],
 "metadata": {
  "kernelspec": {
   "display_name": "Python 3",
   "language": "python",
   "name": "python3"
  },
  "language_info": {
   "codemirror_mode": {
    "name": "ipython",
    "version": 3
   },
   "file_extension": ".py",
   "mimetype": "text/x-python",
   "name": "python",
   "nbconvert_exporter": "python",
   "pygments_lexer": "ipython3",
   "version": "3.6.5"
  }
 },
 "nbformat": 4,
 "nbformat_minor": 2
}
